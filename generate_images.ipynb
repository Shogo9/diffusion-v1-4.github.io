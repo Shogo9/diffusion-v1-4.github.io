{
 "cells": [
  {
   "cell_type": "code",
   "execution_count": 3,
   "metadata": {},
   "outputs": [
    {
     "name": "stderr",
     "output_type": "stream",
     "text": [
      "Cannot initialize model with low cpu memory usage because `accelerate` was not found in the environment. Defaulting to `low_cpu_mem_usage=False`. It is strongly recommended to install `accelerate` for faster and less memory-intense model loading. You can do so with: \n",
      "```\n",
      "pip install accelerate\n",
      "```\n",
      ".\n",
      "Loading pipeline components...:  43%|████▎     | 3/7 [00:00<00:00, 24.48it/s]An error occurred while trying to fetch /Users/shogo/.cache/huggingface/hub/models--CompVis--stable-diffusion-v1-4/snapshots/2880f2ca379f41b0226444936bb7a6766a227587/vae: Error no file named diffusion_pytorch_model.safetensors found in directory /Users/shogo/.cache/huggingface/hub/models--CompVis--stable-diffusion-v1-4/snapshots/2880f2ca379f41b0226444936bb7a6766a227587/vae.\n",
      "Defaulting to unsafe serialization. Pass `allow_pickle=False` to raise an error instead.\n",
      "An error occurred while trying to fetch /Users/shogo/.cache/huggingface/hub/models--CompVis--stable-diffusion-v1-4/snapshots/2880f2ca379f41b0226444936bb7a6766a227587/unet: Error no file named diffusion_pytorch_model.safetensors found in directory /Users/shogo/.cache/huggingface/hub/models--CompVis--stable-diffusion-v1-4/snapshots/2880f2ca379f41b0226444936bb7a6766a227587/unet.\n",
      "Defaulting to unsafe serialization. Pass `allow_pickle=False` to raise an error instead.\n",
      "Loading pipeline components...: 100%|██████████| 7/7 [00:08<00:00,  1.26s/it]\n",
      "  0%|          | 0/50 [00:00<?, ?it/s]"
     ]
    }
   ],
   "source": [
    "import torch\n",
    "from diffusers import StableDiffusionPipeline\n",
    "\n",
    "model_id = \"CompVis/stable-diffusion-v1-4\"\n",
    "device = \"mps\"  # MPSに切り替え\n",
    "\n",
    "prompt = \"\"\n",
    "\n",
    "# モデルの読み込み\n",
    "pipe = StableDiffusionPipeline.from_pretrained(\n",
    "    model_id, revision=\"fp16\", torch_dtype=torch.float16\n",
    ")\n",
    "pipe = pipe.to(device)\n",
    "\n",
    "generator = torch.Generator(device).manual_seed(0)\n",
    "\n",
    "# 自動キャスト (MPS用に修正)\n",
    "with torch.autocast(device_type=\"mps\"):\n",
    "    image = pipe(prompt, guidance_scale=7.5, generator=generator).images[0]\n",
    "\n",
    "image.save(\"2.png\")\n"
   ]
  },
  {
   "cell_type": "code",
   "execution_count": null,
   "metadata": {},
   "outputs": [],
   "source": [
    "import torch\n",
    "from diffusers import StableDiffusionPipeline\n",
    "\n",
    "model_id = \"CompVis/stable-diffusion-v1-4\"\n",
    "device = \"mps\"  # MPSに切り替え\n",
    "\n",
    "prompt = \"\"\n",
    "\n",
    "negative_prompt = \"\"\n",
    "\n",
    "# モデルの読み込み\n",
    "pipe = StableDiffusionPipeline.from_pretrained(\n",
    "    model_id, revision=\"fp16\", torch_dtype=torch.float16\n",
    ")\n",
    "pipe = pipe.to(device)\n",
    "\n",
    "generator = torch.Generator(device).manual_seed(0)\n",
    "\n",
    "# 自動キャスト (MPS用に修正)\n",
    "with torch.autocast(device_type=\"mps\"):\n",
    "    image = pipe(prompt,negative_prompt= negative_prompt, guidance_scale=7.5, generator=generator).images[0]\n",
    "\n",
    "image.save(\"1.png\")"
   ]
  }
 ],
 "metadata": {
  "kernelspec": {
   "display_name": "gai",
   "language": "python",
   "name": "python3"
  },
  "language_info": {
   "codemirror_mode": {
    "name": "ipython",
    "version": 3
   },
   "file_extension": ".py",
   "mimetype": "text/x-python",
   "name": "python",
   "nbconvert_exporter": "python",
   "pygments_lexer": "ipython3",
   "version": "3.9.20"
  }
 },
 "nbformat": 4,
 "nbformat_minor": 2
}
